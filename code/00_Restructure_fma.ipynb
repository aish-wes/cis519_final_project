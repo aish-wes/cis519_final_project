{
 "cells": [
  {
   "cell_type": "code",
   "execution_count": 1,
   "metadata": {},
   "outputs": [],
   "source": [
    "# Imports\n",
    "import pandas as pd\n",
    "import shutil\n",
    "import os"
   ]
  },
  {
   "cell_type": "code",
   "execution_count": 2,
   "metadata": {},
   "outputs": [
    {
     "name": "stderr",
     "output_type": "stream",
     "text": [
      "/Users/aishwaryawesanekar/opt/anaconda3/lib/python3.8/site-packages/IPython/core/interactiveshell.py:3146: DtypeWarning: Columns (0) have mixed types.Specify dtype option on import or set low_memory=False.\n",
      "  has_raised = await self.run_ast_nodes(code_ast.body, cell_name,\n"
     ]
    }
   ],
   "source": [
    "# Reading in the data\n",
    "df = pd.read_csv('../fma_metadata/tracks.csv', skiprows=1)\n",
    "from_dir = '../fma_small'\n",
    "to_dir = '../fma_data'"
   ]
  },
  {
   "cell_type": "code",
   "execution_count": 3,
   "metadata": {},
   "outputs": [],
   "source": [
    "def restructure(df, from_dir,to_dir):\n",
    "    #Traverse through all the tracks\n",
    "    for index, row in df.iterrows():\n",
    "        file_name = row['Unnamed: 0']+'.mp3'\n",
    "        print('Searching for', file_name)\n",
    "        \n",
    "        #Search for the mp3 file in the data directory\n",
    "        for folder in os.scandir(from_dir):\n",
    "            if(os.path.isdir(folder)):\n",
    "                for file in os.scandir(folder):\n",
    "                    potential_file_name = file.name.strip('0')\n",
    "    #                 print('Checking if', potential_file_name, 'is the one')\n",
    "                    if(potential_file_name == file_name):\n",
    "#                         print('Found', file.name)\n",
    "\n",
    "                        #Create a genre directory if that does not exist already\n",
    "                        move_location = to_dir + '/' + row['genre_top']\n",
    "                        if(not os.path.isdir(move_location)):\n",
    "#                             print('Creating directory', move_location)\n",
    "                            os.mkdir(move_location)\n",
    "\n",
    "                        #Copy the mp3 file to this directory\n",
    "                        move_location = move_location + '/' + file_name\n",
    "                        print('Moving to', move_location)\n",
    "                        shutil.copyfile(from_dir + '/' + folder.name + '/'+ file.name, move_location)"
   ]
  },
  {
   "cell_type": "code",
   "execution_count": null,
   "metadata": {},
   "outputs": [],
   "source": [
    "restructure(df, from_dir, to_dir)"
   ]
  }
 ],
 "metadata": {
  "kernelspec": {
   "display_name": "Python 3",
   "language": "python",
   "name": "python3"
  },
  "language_info": {
   "codemirror_mode": {
    "name": "ipython",
    "version": 3
   },
   "file_extension": ".py",
   "mimetype": "text/x-python",
   "name": "python",
   "nbconvert_exporter": "python",
   "pygments_lexer": "ipython3",
   "version": "3.8.5"
  }
 },
 "nbformat": 4,
 "nbformat_minor": 4
}
